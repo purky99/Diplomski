{
  "nbformat": 4,
  "nbformat_minor": 0,
  "metadata": {
    "colab": {
      "provenance": [],
      "authorship_tag": "ABX9TyPO5dzOl5VacS0Z56lBYyc3",
      "include_colab_link": true
    },
    "kernelspec": {
      "name": "python3",
      "display_name": "Python 3"
    },
    "language_info": {
      "name": "python"
    }
  },
  "cells": [
    {
      "cell_type": "markdown",
      "metadata": {
        "id": "view-in-github",
        "colab_type": "text"
      },
      "source": [
        "<a href=\"https://colab.research.google.com/github/purky99/Diplomski/blob/main/Untitled6.ipynb\" target=\"_parent\"><img src=\"https://colab.research.google.com/assets/colab-badge.svg\" alt=\"Open In Colab\"/></a>"
      ]
    },
    {
      "cell_type": "code",
      "execution_count": null,
      "metadata": {
        "id": "U5b3qeP-VgMK"
      },
      "outputs": [],
      "source": [
        "!pip install tensorflow==2.10.0\n",
        "\n",
        "!pip install keras==2.10.0\n",
        "\n",
        "!pip install segmentation-models"
      ]
    },
    {
      "cell_type": "code",
      "source": [
        "from google.colab import drive\n",
        "\n"
      ],
      "metadata": {
        "id": "AZQEpfFkW51-"
      },
      "execution_count": 2,
      "outputs": []
    },
    {
      "cell_type": "code",
      "source": [
        "drive.mount('/content/drive')"
      ],
      "metadata": {
        "colab": {
          "base_uri": "https://localhost:8080/"
        },
        "id": "mKz5uhIHZIyi",
        "outputId": "cb1699c5-7ee1-4c87-d811-d0a027430053"
      },
      "execution_count": 3,
      "outputs": [
        {
          "output_type": "stream",
          "name": "stdout",
          "text": [
            "Mounted at /content/drive\n"
          ]
        }
      ]
    },
    {
      "cell_type": "code",
      "source": [
        "!unzip /content/drive/My\\ Drive/data.zip -d /content/"
      ],
      "metadata": {
        "id": "WpXmb2NrZaPY"
      },
      "execution_count": null,
      "outputs": []
    },
    {
      "cell_type": "code",
      "source": [
        "dataset_path = '/content/data'\n"
      ],
      "metadata": {
        "id": "TFuYv3OofSIs"
      },
      "execution_count": 17,
      "outputs": []
    },
    {
      "cell_type": "code",
      "source": [
        "import os\n",
        "import cv2\n",
        "import numpy as np\n",
        "import segmentation_models as sm\n",
        "import random\n",
        "import glob\n",
        "import keras\n",
        "from segmentation_models import Unet\n",
        "from sklearn.model_selection import train_test_split\n",
        "\n",
        "\n",
        "BACKBONE = 'resnet34'\n",
        "preprocess_input = sm.get_preprocessing(BACKBONE)\n",
        "\n",
        "keras.backend.set_image_data_format('channels_last')\n",
        "\n",
        "\n",
        "data_dir = '/content/data'\n",
        "image_dir = os.path.join(data_dir, 'images')\n",
        "\n",
        "# specify the list of mask filenames you want to extract\n",
        "mask_filenames = []\n",
        "for i in range(6000):\n",
        "    filename = 'LargeAmmoCanHandles.001_frame_{:04d}.png'.format(i)\n",
        "    mask_filenames.append(filename)\n",
        "\n",
        "# create a list of image filenames\n",
        "all_image_filenames = [f for f in os.listdir(image_dir) if f.endswith('.jpg')]\n",
        "\n",
        "# randomly select 100 image filenames\n",
        "selected_image_filenames = random.sample(all_image_filenames, 100)\n",
        "\n",
        "# create a list of mask filenames that correspond to the selected image filenames\n",
        "selected_mask_filenames = []\n",
        "selected_mask_paths = []\n",
        "for image_filename in selected_image_filenames:\n",
        "    image_number = os.path.splitext(image_filename)[0]\n",
        "    mask_filename = None\n",
        "    mask_path = os.path.join(data_dir, 'masks', image_number)\n",
        "    if os.path.exists(mask_path):\n",
        "        for mask_name in mask_filenames:\n",
        "            mask_path = os.path.join(data_dir, 'masks', image_number[-3:], mask_name)\n",
        "            if os.path.exists(mask_path):\n",
        "                mask_filename = mask_name\n",
        "                break\n",
        "        if mask_filename is not None:\n",
        "            selected_mask_filenames.append(mask_filename)\n",
        "            selected_mask_paths.append(mask_path)\n",
        "        else:\n",
        "            print(\"No mask file found for selected image: {}. Skipping image...\".format(image_filename))\n",
        "            continue # skip this image and move on to the next one\n",
        "    \n",
        "\n",
        "# create lists of image and mask paths for the selected images\n",
        "selected_image_paths = [os.path.join(image_dir, f) for f in selected_image_filenames]\n",
        "\n",
        "# split the selected image and mask paths into train and validation sets\n",
        "train_paths, val_paths, train_mask_paths, val_mask_paths = train_test_split(selected_image_paths, selected_mask_paths, test_size=0.2, random_state=42, stratify=selected_mask_paths)\n",
        "\n",
        "# load the train images and masks\n",
        "x_train = []\n",
        "y_train = []\n",
        "for img_path, mask_path in zip(train_paths, train_mask_paths):\n",
        "    # load the image\n",
        "    img = cv2.imread(img_path, cv2.IMREAD_COLOR)\n",
        "    img = cv2.cvtColor(img, cv2.COLOR_BGR2RGB)\n",
        "\n",
        "    # preprocess the image\n",
        "    img = preprocess_input(img)\n",
        "\n",
        "    # load the mask\n",
        "    mask = cv2.imread(mask_path, cv2.IMREAD_GRAYSCALE)\n",
        "\n",
        "    # add to the lists\n",
        "    x_train.append(img)\n",
        "    y_train.append(mask)\n",
        "\n",
        "# convert to numpy arrays\n",
        "x_train = np.array(x_train)\n",
        "y_train = np.array(y_train)\n",
        "\n",
        "# load the validation images and masks\n",
        "x_val = []\n",
        "y_val = []\n",
        "for img_path, mask_path in zip(val_paths, val_mask_paths):\n",
        "    # load the image\n",
        "    img = cv2.imread(img_path, cv2.IMREAD_COLOR)\n",
        "    img = cv2.cvtColor(img, cv2.COLOR_BGR2RGB)\n",
        "\n",
        "    # preprocess the image\n",
        "    img = preprocess_input(img)\n",
        "\n",
        "    # load the mask\n",
        "    mask = cv2.imread(mask_path, cv2.IMREAD_GRAYSCALE)\n",
        "\n",
        "    # add to the lists\n",
        "    x_val.append(img)\n",
        "    y_val.append(mask)\n",
        "\n",
        "# convert to numpy arrays\n",
        "x_val = np.array(x_val)\n",
        "y_val = np.array(y_val)\n",
        "\n",
        "def load_data():\n",
        "    # preprocess input\n",
        "    x_train_pre = preprocess_input(x_train)\n",
        "    x_val_pre = preprocess_input(x_val)\n",
        "\n",
        "    # resize masks to match model output\n",
        "    y_train_resized = resize_masks(y_train, model.output_shape[1:3])\n",
        "    y_val_resized = resize_masks(y_val, model.output_shape[1:3])\n",
        "\n",
        "    # normalize masks\n",
        "    y_train_normalized = y_train_resized / 255.0\n",
        "    y_val_normalized = y_val_resized / 255.0\n",
        "\n",
        "    # expand dimensions for masks\n",
        "    y_train_expanded = np.expand_dims(y_train_normalized, axis=-1)\n",
        "    y_val_expanded = np.expand_dims(y_val_normalized, axis=-1)\n",
        "\n",
        "\n",
        "    return x_train_pre, y_train_expanded, x_val_pre, y_val_expanded\n",
        "\n",
        "def resize_masks(masks, shape):\n",
        "    resized_masks = []\n",
        "    for mask in masks:\n",
        "        resized_mask = cv2.resize(mask, shape, interpolation=cv2.INTER_NEAREST)\n",
        "        resized_masks.append(resized_mask)\n",
        "    return np.array(resized_masks)\n",
        "\n",
        "# load your data\n",
        "x_train, y_train, x_val, y_val = load_data()\n",
        "\n",
        "# define model\n",
        "model = sm.Unet('resnet34', classes=2, activation='softmax', encoder_weights='imagenet')\n",
        "model.compile(\n",
        "    'Adam',\n",
        "    loss=sm.losses.bce_jaccard_loss,\n",
        "    metrics=[sm.metrics.iou_score],\n",
        ")\n",
        "\n",
        "# fit model\n",
        "# if you use data generator use model.fit_generator(...) instead of model.fit(...)\n",
        "# more about `fit_generator` here: https://keras.io/models/sequential/#fit_generator\n",
        "model.fit(\n",
        "   x=x_train,\n",
        "   y=y_train,\n",
        "   batch_size=16,\n",
        "   epochs=100,\n",
        "   validation_data=(x_val, y_val),\n",
        ")\n",
        "\n"
      ],
      "metadata": {
        "id": "misUm7AbgsAA"
      },
      "execution_count": null,
      "outputs": []
    }
  ]
}